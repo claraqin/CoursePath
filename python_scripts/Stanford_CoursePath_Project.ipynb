{
 "cells": [
  {
   "cell_type": "markdown",
   "metadata": {},
   "source": [
    "# I. Introduction #\n",
    "\n",
    "## 1. Premise ##\n",
    "\n",
    "*How many different paths can I possibly take to fulfill my degree requirements in time, and what would these paths look like?*\n",
    "\n",
    "Every academic year, hundreds of first-year undergraduates at Stanford refer to the Bulletin, Stanford’s course catalog, to create their own ideal four-year plan. While this planning process may help students to gauge how much flexibility is allowed by their academic goals, many students come to realize that the plan itself is highly speculative. Because the times and availabilities of course offerings are subject to change year after year, it can be difficult to plan ahead - at least past the current academic year. In particular, there is a risk that a student who planned their courses meticulously may nonetheless fail to complete their degree requirements in time. Perhaps they were counting on a course being offered in a particular quarter, or perhaps the department’s requirements became unintentionally restrictive.\n",
    "\n",
    "In hindsight, it is possible to assess the difficulty of completing a degree program given a set of constraints, based on publicly-available data from the Stanford Bulletin’s archives and associated websites (e.g. exploredegrees.stanford.edu and explorecourses.stanford.edu). With this information, we can identify all of the paths that were available to a student at any point in their undergraduate career, and note potential pitfalls and bottlenecks. Therefore, the goal of this project is not to predict the future; instead, the goal is to explore the full range of course paths that were allowed under a set of existing degree requirements, and in doing so, to inform broad-scale education initiatives at Stanford University.\n",
    "\n",
    "## 2. Features ##\n",
    "\n",
    "This project has two features that are in the process of being integrated:\n",
    "\n",
    "1. An exhaustive search of all possible ways to successfully complete a given set of degree requirements - the output of which produces a summary chart.\n",
    "\n",
    "2. A function that returns the length of a *prerequisite chain* - that is, the number of courses that must precede any given course, based on the pre/corequisites listed in the descriptions of the 2015-2016 ExploreCourses course descriptions.\n",
    "\n",
    "## 3. Data Sources ##\n",
    "\n",
    "All data used in this project is publicly available from the Stanford Bulletin and its archives:\n",
    "* exploredegrees.stanford.edu\n",
    "* exploredegrees.stanford.edu/archive/\n",
    "* explorecourses.stanford.edu\n",
    "\n",
    "## 4. Data Collection ##\n",
    "\n",
    "### (a) ExploreCourses\n",
    "\n",
    "See Appendix for details on data collection from ExploreCourses.\n",
    "\n",
    "### (b) ExploreDegrees\n",
    "\n",
    "Degree requirements must be manually entered based on the information provided on ExploreDegrees. For example, here is reqs_ecoevo_sub.txt, which includes a subset of the requirements for the Ecology and Evolution concentration of the Biology major."
   ]
  },
  {
   "cell_type": "code",
   "execution_count": 9,
   "metadata": {
    "collapsed": false,
    "scrolled": true
   },
   "outputs": [
    {
     "name": "stdout",
     "output_type": "stream",
     "text": [
      "And[\n",
      "\tBIO 41\n",
      "\tBIO 42\n",
      "\tOr[\n",
      "\t\tBIO 43\n",
      "\t\tBIOHOPK 43\n",
      "\t]\n",
      "\tOr[\n",
      "\t\tBIO 101\n",
      "\t\tBIOHOPK 172H\n",
      "\t]\n",
      "\tOr[\n",
      "\t\tBIO 44X\n",
      "\t\tBIO 44Y\n",
      "\t\tBIOHOPK 44Y\n",
      "\t]\n",
      "\tOr[\n",
      "\t\tAnd[\n",
      "\t\t\tCHEM 31A\n",
      "\t\t\tCHEM 31B\n",
      "\t\t]\n",
      "\t\tCHEM 31X\n",
      "\t]\n",
      "\tOr[\n",
      "\t\tCHEM 33\n",
      "\t\tCHEM 1\n",
      "\t]\n",
      "\tOr[\n",
      "\t\tCHEM 35\n",
      "\t\tCHEM 2\n",
      "\t]\n",
      "]\n"
     ]
    }
   ],
   "source": [
    "%%bash\n",
    "cat ../degree_reqs/ecoevo/reqs_ecoevo_sub.txt"
   ]
  },
  {
   "cell_type": "markdown",
   "metadata": {},
   "source": [
    "# II. CoursePath Analysis #\n",
    "\n",
    "## 1. Dictionaries ##\n",
    "\n",
    "Before the CoursePath analysis could begin, it was necessary to use the collected data to create two dictionaries; one to efficiently check course prerequisites, and another to encode courses by their unique course IDs."
   ]
  },
  {
   "cell_type": "markdown",
   "metadata": {},
   "source": [
    "### (a) Course prerequisites dictionary"
   ]
  },
  {
   "cell_type": "code",
   "execution_count": null,
   "metadata": {
    "collapsed": true
   },
   "outputs": [],
   "source": [
    "%%bash\n",
    "\n",
    "# Parse prereqs from 2015-2016 ExploreCourses API output\n",
    "cd /Users/kennethqin/Documents/Stanford\\ Coterm\\ Year/ICME\\ Research/pathways_project/edusalsa/stanfordreq-master\n",
    "python stanfordreq.py ../explorecourses_20152016.json ../../dict/prereqs_20152016.json\n",
    "\n",
    "# Make nested prerequisite dictionary that takes into account \"and\"/\"or\" structure\n",
    "cd /Users/kennethqin/Documents/Stanford\\ Coterm\\ Year/ICME\\ Research/pathways_project/python_scripts\n",
    "cat ../dict/prereqs_20152016.json | Python make_req_dict_nested.py"
   ]
  },
  {
   "cell_type": "markdown",
   "metadata": {},
   "source": [
    "### (b) Course name-ID dictionaries"
   ]
  },
  {
   "cell_type": "code",
   "execution_count": null,
   "metadata": {
    "collapsed": true
   },
   "outputs": [],
   "source": [
    "%%bash\n",
    "\n",
    "cat ../ec_data/output_allcourses.txt | Python make_course_dicts.py"
   ]
  },
  {
   "cell_type": "markdown",
   "metadata": {},
   "source": [
    "## 2. Run Exhaustive Search ##\n",
    "\n",
    "The exhaustive search behind CoursePath takes in a number of input parameters and returns a list of all possible course paths that may complete a given set of requirements.\n",
    "\n",
    "Inputs:\n",
    "    \n",
    "1. manual_degree_reqs: file path to manually-entered text file of degree requirements (e.g. reqs_ecoevo_sub.txt)\n",
    "    \n",
    "2. start_year: year in the ExploreCourses catalogue from which to begin searching\n",
    "    \n",
    "3. T: number of quarters (excluding summers) over which to search\n",
    "    \n",
    "4. max_courses_per_qtr: max. no. of courses that a student may take in any quarter\n",
    "    \n",
    "5. start_path: string to indicate which courses have already been taken before the search begins (e.g. 'MATH 19, MATH 20, MATH 21, MATH 41, MATH 42, PHYSICS 41, CHEM 31X, CHEM 33')\n",
    "\n",
    "Usage:\n",
    "\n",
    "    python print_pathways.py [-h] [manual_degree_reqs] [start_year] [T] [max_courses_per_qtr] [start_path]\n"
   ]
  },
  {
   "cell_type": "markdown",
   "metadata": {},
   "source": [
    "### Example on the subset of requirements for Ecology & Evolution:\n",
    "\n",
    "Suppose that we start the 2012-2013 academic year having already taken the following courses:\n",
    "\n",
    "* MATH 19\n",
    "* MATH 20\n",
    "* MATH 21\n",
    "* MATH 41\n",
    "* MATH 42\n",
    "* PHYSICS 41\n",
    "* CHEM 31X\n",
    "* CHEM 33\n",
    "\n",
    "And suppose we want to complete the degree requirements given as an example in section I.4.b, in 6 quarters or fewer, and not including summers. Also, assume that we take no more than 6 courses in any quarter.\n",
    "\n",
    "The following command will exhaustively search through all course paths with those specifications. The output consists of 5 fields: \n",
    "\n",
    "* **t**, the current quarter for which the path has proposed a schedule\n",
    "* **T**, the maximum number of quarters over which the path searches\n",
    "* **branch_id**, a unique identifier for each path\n",
    "* **pathway**, a string of course names, for which courses in the same quarter are separated by ',' and courses in adjacent quarters are separated by '|'\n",
    "* **True/False**, indicating whether the completed path actually fulfills degree requirements; blank unless t = T."
   ]
  },
  {
   "cell_type": "code",
   "execution_count": 4,
   "metadata": {
    "collapsed": false,
    "scrolled": true
   },
   "outputs": [
    {
     "name": "stdout",
     "output_type": "stream",
     "text": [
      "t:0\tT:6\tbranch_id:\tpathway:MATH 19,MATH 20,MATH 21,MATH 41,MATH 42,PHYSICS 41,CHEM 31X,CHEM 33\t\n",
      "t:1\tT:6\tbranch_id:.0\tpathway:MATH 19,MATH 20,MATH 21,MATH 41,MATH 42,PHYSICS 41,CHEM 31X,CHEM 33|\t\n",
      "t:2\tT:6\tbranch_id:.0.0\tpathway:MATH 19,MATH 20,MATH 21,MATH 41,MATH 42,PHYSICS 41,CHEM 31X,CHEM 33||\t\n",
      "t:3\tT:6\tbranch_id:.0.0.0\tpathway:MATH 19,MATH 20,MATH 21,MATH 41,MATH 42,PHYSICS 41,CHEM 31X,CHEM 33|||\t\n",
      "t:4\tT:6\tbranch_id:.0.0.0.0\tpathway:MATH 19,MATH 20,MATH 21,MATH 41,MATH 42,PHYSICS 41,CHEM 31X,CHEM 33||||\t\n",
      "t:5\tT:6\tbranch_id:.0.0.0.0.0\tpathway:MATH 19,MATH 20,MATH 21,MATH 41,MATH 42,PHYSICS 41,CHEM 31X,CHEM 33|||||\t\n",
      "t:6\tT:6\tbranch_id:.0.0.0.0.0.0\tpathway:MATH 19,MATH 20,MATH 21,MATH 41,MATH 42,PHYSICS 41,CHEM 31X,CHEM 33||||||\tFalse\n",
      "t:6\tT:6\tbranch_id:.0.0.0.0.0.1\tpathway:MATH 19,MATH 20,MATH 21,MATH 41,MATH 42,PHYSICS 41,CHEM 31X,CHEM 33||||||BIO 42\tFalse\n",
      "t:5\tT:6\tbranch_id:.0.0.0.0.1\tpathway:MATH 19,MATH 20,MATH 21,MATH 41,MATH 42,PHYSICS 41,CHEM 31X,CHEM 33|||||CHEM 35\t\n",
      "t:6\tT:6\tbranch_id:.0.0.0.0.1.0\tpathway:MATH 19,MATH 20,MATH 21,MATH 41,MATH 42,PHYSICS 41,CHEM 31X,CHEM 33|||||CHEM 35|\tFalse\n"
     ]
    },
    {
     "name": "stderr",
     "output_type": "stream",
     "text": [
      "Exception ignored in: <_io.TextIOWrapper name='<stdout>' mode='w' encoding='UTF-8'>\n",
      "BrokenPipeError: [Errno 32] Broken pipe\n"
     ]
    }
   ],
   "source": [
    "%%bash\n",
    "\n",
    "python print_pathways.py ../degree_reqs/ecoevo/reqs_ecoevo_sub.txt 2012 6 6 'MATH 19, MATH 20, MATH 21, MATH 41, MATH 42, PHYSICS 41, CHEM 31X, CHEM 33' | head"
   ]
  },
  {
   "cell_type": "markdown",
   "metadata": {},
   "source": [
    "The raw output is not very informative, because it represents the set of *all* hypothetical course paths that may be realized, *regardless* of whether they actually satisfy degree requirements. We can pipe this through another script to return only those paths that satisfy degree requirements, and then aggregate those paths to generate a cumulative-distribution plot which describes, for each course and each quarter, the proportion of course-realizations that have occurred by then.\n",
    "\n",
    "The quarter at which a course hits the 100%-mark is the point at which the course becomes a bottleneck to successful degree completion."
   ]
  },
  {
   "cell_type": "code",
   "execution_count": 6,
   "metadata": {
    "collapsed": false,
    "scrolled": true
   },
   "outputs": [
    {
     "name": "stderr",
     "output_type": "stream",
     "text": [
      "\n",
      "Attaching package: ‘dplyr’\n",
      "\n",
      "The following objects are masked from ‘package:stats’:\n",
      "\n",
      "    filter, lag\n",
      "\n",
      "The following objects are masked from ‘package:base’:\n",
      "\n",
      "    intersect, setdiff, setequal, union\n",
      "\n",
      "Saving 7 x 7 in image\n",
      "Error in locator(1) : \n",
      "  graphics device closed during call to locator or identify\n",
      "Execution halted\n"
     ]
    }
   ],
   "source": [
    "%%bash\n",
    "\n",
    "python print_pathways.py ../degree_reqs/ecoevo/reqs_ecoevo_sub.txt 2012 6 6 'MATH 19, MATH 20, MATH 21, MATH 41, MATH 42, PHYSICS 41, CHEM 31X, CHEM 33' | python post_print_pathways.py > ../out_pathways/pathways_ecoevo_sub.txt\n",
    "\n",
    "Rscript ../out_pathways/cumdist_pathways.R"
   ]
  },
  {
   "cell_type": "markdown",
   "metadata": {},
   "source": [
    "# III. Length of Prerequisite Chain\n",
    "\n",
    "A prerequisite chain is a chain of courses that must precede a given course. Often each course's set of prerequisites can be completed in multiple ways (just like a set of degree requirements!). Thus, the length of a prerequisite chain, as defined here, is the **minimum number of courses that must be taken before a given course**.\n",
    "\n",
    "Let's look at a few examples:"
   ]
  },
  {
   "cell_type": "code",
   "execution_count": 6,
   "metadata": {
    "collapsed": false,
    "scrolled": false
   },
   "outputs": [
    {
     "name": "stdout",
     "output_type": "stream",
     "text": [
      "2\n"
     ]
    }
   ],
   "source": [
    "%%bash\n",
    "python len_prereq_chain.py 'BIO 41'"
   ]
  },
  {
   "cell_type": "code",
   "execution_count": 21,
   "metadata": {
    "collapsed": false
   },
   "outputs": [
    {
     "name": "stdout",
     "output_type": "stream",
     "text": [
      "4\n"
     ]
    }
   ],
   "source": [
    "%%bash\n",
    "Python len_prereq_chain.py 'MATH 104'"
   ]
  },
  {
   "cell_type": "code",
   "execution_count": 19,
   "metadata": {
    "collapsed": false,
    "scrolled": true
   },
   "outputs": [
    {
     "name": "stdout",
     "output_type": "stream",
     "text": [
      "2\n"
     ]
    }
   ],
   "source": [
    "%%bash\n",
    "python len_prereq_chain.py 'ECON 52'"
   ]
  },
  {
   "cell_type": "markdown",
   "metadata": {},
   "source": [
    "This process is a little opaque, so if you wanted to know what was happening behind the scenes, simply enter any character at the end of this command to trigger verbosity:"
   ]
  },
  {
   "cell_type": "code",
   "execution_count": 22,
   "metadata": {
    "collapsed": false,
    "scrolled": true
   },
   "outputs": [
    {
     "name": "stdout",
     "output_type": "stream",
     "text": [
      "0\n",
      "Course: ECON 52\tPrereqs: {'And': [{'Takes': 'ECON 50'}]}\n",
      "Course: ECON 52\tCoreqs: {}\n",
      "\t1\n",
      "\tCourse: ECON 50\tPrereqs: {'And': [{'Or': [{'Takes': 'ECON 1'}, {'Takes': 'ECON 1V'}]}, {'Or': [{'Takes': 'MATH 51'}, {'Takes': 'ENGR 154'}, {'Takes': 'CME 100A'}]}]}\n",
      "\tCourse: ECON 50\tCoreqs: {}\n",
      "\t\t2\n",
      "\t\tCourse: ECON 1\tPrereqs: {}\n",
      "\t\tCourse: ECON 1\tCoreqs: {}\n",
      "\t\t2\n",
      "\t\tCourse: ECON 1V\tPrereqs: {}\n",
      "\t\tCourse: ECON 1V\tCoreqs: {}\n",
      "\t\t2\n",
      "\t\tCourse: MATH 51\tPrereqs: {'And': [{'Or': [{'Takes': 'MATH 21'}, {'Takes': 'MATH 42'}]}]}\n",
      "\t\tCourse: MATH 51\tCoreqs: {}\n",
      "\t\t\t3\n",
      "\t\t\tCourse: MATH 21\tPrereqs: {'And': [{'Or': [{'Takes': 'MATH 20'}]}]}\n",
      "\t\t\tCourse: MATH 21\tCoreqs: {}\n",
      "\t\t\t\t4\n",
      "\t\t\t\tCourse: MATH 20\tPrereqs: {'And': [{'Or': [{'Takes': 'MATH 19'}]}]}\n",
      "\t\t\t\tCourse: MATH 20\tCoreqs: {}\n",
      "\t\t\t\t\t5\n",
      "\t\t\t\t\tCourse: MATH 19\tPrereqs: {'And': []}\n",
      "\t\t\t\t\tCourse: MATH 19\tCoreqs: {}\n",
      "\t\t\t3\n",
      "\t\t\tCourse: MATH 42\tPrereqs: {'And': [{'Or': [{'Takes': 'MATH 41'}]}]}\n",
      "\t\t\tCourse: MATH 42\tCoreqs: {}\n",
      "\t\t\t\t4\n",
      "\t\t\t\tCourse: MATH 41\tPrereqs: {'And': []}\n",
      "\t\t\t\tCourse: MATH 41\tCoreqs: {}\n",
      "\t\t2\n",
      "\t\tCourse: ENGR 154\tPrereqs: {'And': [{'Or': [{'Takes': 'MATH 41'}]}]}\n",
      "\t\tCourse: ENGR 154\tCoreqs: {}\n",
      "\t\t\t3\n",
      "\t\t\tCourse: MATH 41\tPrereqs: {'And': []}\n",
      "\t\t\tCourse: MATH 41\tCoreqs: {}\n",
      "\t\t2\n",
      "\t\tCourse: CME 100A\tPrereqs: {'And': []}\n",
      "\t\tCourse: CME 100A\tCoreqs: {}\n",
      "2\n"
     ]
    }
   ],
   "source": [
    "%%bash\n",
    "python len_prereq_chain.py 'ECON 52' v"
   ]
  },
  {
   "cell_type": "markdown",
   "metadata": {},
   "source": [
    "# IV. Future Directions\n",
    "\n",
    "## 1. Integration of the CoursePath and Prerequisite-Chain Length Features\n",
    "\n",
    "The CoursePath exhaustive search is computationally expensive, and soon becomes intractable with increases in either (i) the number of quarters over which to search or (ii) the number of courses relevant to the degree requirements. So far, it has only been possible to consider subsets of degree requirements over a relatively short period of time.\n",
    "\n",
    "Part of this shortcoming is due to the forward-search approach employed by the CoursePath analysis. Specifically, the CoursePath analysis runs an exhaustive search by choosing all possible course schedules in quarter 1, then appending all possible subsequent schedules in quarter 2, then appending all possible subsequent schedules in quarter 3, and so on, until quarter *T*. (Well, technically uses a depth-first search, but you get the idea.)\n",
    "\n",
    "A more efficient approach may involve an extension of the prerequisite-chain feature to search *backwards*. Such an approach may take the following broad steps:\n",
    "\n",
    "1. Generate all possible course sets (i.e. courses taken by the student) that would satisfy the degree requirements.\n",
    "2. For each course set, construct a tree that represents the prerequisite-dependencies among the courses in the set. The **constraint.py** module in python_scripts may be useful for this step.\n",
    "3. For each course set, consider the *primary prerequisites* (made-up name; i.e. the courses that are not prerequisites to any other courses in the set). For each primary prerequisite, list the quarters in the course path where such a course could have been scheduled. (Surely no sooner than the length of the course's prerequisite chain.)\n",
    "4. Next, for each course set, consider the *secondary prerequisites* (i.e. the courses that are prerequisites to just *one* other course in the set). For each secondary prerequisite, list the quarters in the course path where such a course could have been scheduled.\n",
    "5. Et cetera, until the entire prerequisite tree has been explored.\n",
    "6. In the end, you will have generated a list of all possible course paths that satisfy the degree requirements. (Or will you? I'm not sure yet.)\n",
    "\n",
    "**Notes:**\n",
    "\n",
    "* This project would require an error-free parsing of the prerequisite structures from the course descriptions in ExploreCourses. Unfortunately, this is the only place where prerequisite information is publicly available, and the descriptions are prone to both typos and non-standard writing formats.\n",
    "* I would recommend using the **constraint.py** module for this project, as it can be used to encode both degree requirements and course prerequisites. It may even be useful to extend the module to handle cases where one is required to \"choose two courses from a menu\" - for example."
   ]
  },
  {
   "cell_type": "markdown",
   "metadata": {
    "collapsed": true
   },
   "source": [
    "# V. Appendix\n",
    "\n",
    "## A. Data Collection from ExploreCourses API"
   ]
  },
  {
   "cell_type": "code",
   "execution_count": null,
   "metadata": {
    "collapsed": true
   },
   "outputs": [],
   "source": [
    "%%bash\n",
    "\n",
    "# Get data from ExploreCourses API\n",
    "Python parse_EC_API.py 20162017 > ../ec_data/output_20162017.txt\n",
    "Python parse_EC_API.py 20152016 > ../ec_data/output_20152016.txt\n",
    "Python parse_EC_API.py 20142015 > ../ec_data/output_20142015.txt\n",
    "Python parse_EC_API.py 20132014 > ../ec_data/output_20132014.txt\n",
    "Python parse_EC_API.py 20122013 > ../ec_data/output_20122013.txt\n",
    "Python parse_EC_API.py 20112012 > ../ec_data/output_20112012.txt\n",
    "cat ../ec_data/output_20112012.txt > ../ec_data/output_allcourses.txt\n",
    "tail -n +2 ../ec_data/output_20122013.txt >> ../ec_data/output_allcourses.txt\n",
    "tail -n +2 ../ec_data/output_20132014.txt >> ../ec_data/output_allcourses.txt\n",
    "tail -n +2 ../ec_data/output_20142015.txt >> ../ec_data/output_allcourses.txt\n",
    "tail -n +2 ../ec_data/output_20152016.txt >> ../ec_data/output_allcourses.txt\n",
    "tail -n +2 ../ec_data/output_20162017.txt >> ../ec_data/output_allcourses.txt"
   ]
  },
  {
   "cell_type": "code",
   "execution_count": 3,
   "metadata": {
    "collapsed": true
   },
   "outputs": [],
   "source": [
    "%%bash\n",
    "\n",
    "# Filter only the courses for which a schedule is given\n",
    "# This is done to filter out courses that are not restrictive to degree completion\n",
    "awk -F \"\\t\" '{if ($16 != \"None\" && $17 != \"None\" && $18 != \"None\") print}' ../ec_data/output_allcourses.txt > ../ec_data/output_courses_w_times.txt"
   ]
  }
 ],
 "metadata": {
  "kernelspec": {
   "display_name": "Python [Root]",
   "language": "python",
   "name": "Python [Root]"
  },
  "language_info": {
   "codemirror_mode": {
    "name": "ipython",
    "version": 3
   },
   "file_extension": ".py",
   "mimetype": "text/x-python",
   "name": "python",
   "nbconvert_exporter": "python",
   "pygments_lexer": "ipython3",
   "version": "3.5.1"
  }
 },
 "nbformat": 4,
 "nbformat_minor": 0
}
